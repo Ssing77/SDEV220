{
 "cells": [
  {
   "cell_type": "code",
   "execution_count": null,
   "id": "9d99a059-2044-40b4-8c4d-8d88d00210dd",
   "metadata": {},
   "outputs": [],
   "source": [
    "4.1"
   ]
  },
  {
   "cell_type": "code",
   "execution_count": null,
   "id": "b5758c7e-ba75-497c-be27-9de671d43207",
   "metadata": {},
   "outputs": [],
   "source": [
    "secret = 5\n",
    "guess = 9\n",
    "if guess < secret:\n",
    "    print(\"Too low.\")\n",
    "elif guess > secret:\n",
    "    print(\"Too high.\")\n",
    "else:\n",
    "    print(\"just right\")\n"
   ]
  },
  {
   "cell_type": "code",
   "execution_count": null,
   "id": "5369849c-d22b-4ff4-a28f-d4d6d9dedc10",
   "metadata": {},
   "outputs": [],
   "source": [
    "4.2"
   ]
  },
  {
   "cell_type": "code",
   "execution_count": null,
   "id": "6bc1cc37-18bf-4e04-9d60-c52244451e5d",
   "metadata": {},
   "outputs": [],
   "source": [
    "small = true | false\n",
    "green = true | false\n",
    "\n",
    "items = [\"Cherry\", \"Pea\", \"Watermelon\", \"Pumpkin\"]\n",
    "for item in items:\n",
    "    if small and green:\n",
    "        print(f\"{item} is small and green\")\n",
    "    elif small and not green:\n",
    "        print(f\"{item} is small but not green\")\n",
    "    elif not small and green:\n",
    "        print(f\"{item} is not small but green\")\n",
    "    else:\n",
    "        print(f\"{item} is not small and not green\")"
   ]
  },
  {
   "cell_type": "code",
   "execution_count": null,
   "id": "5688ea66-bd85-4599-8344-a1c7afb68479",
   "metadata": {},
   "outputs": [],
   "source": [
    "6.1"
   ]
  },
  {
   "cell_type": "code",
   "execution_count": null,
   "id": "886d0a5c-b8c1-40b5-a4d6-8d0cf89f38b4",
   "metadata": {},
   "outputs": [],
   "source": [
    "list = [3,2,1,0]\n",
    "for number in list:\n",
    "    print(number)"
   ]
  },
  {
   "cell_type": "code",
   "execution_count": null,
   "id": "ac03766c-caf5-465b-84b7-06f9855db4f1",
   "metadata": {},
   "outputs": [],
   "source": [
    "6.2"
   ]
  },
  {
   "cell_type": "code",
   "execution_count": null,
   "id": "0a721d4f-83bf-4146-882a-df15a0d8ab60",
   "metadata": {},
   "outputs": [],
   "source": [
    "guess_me = 7\n",
    "number = 1\n",
    "while number < guess_me:\n",
    "    print(\"Tow low.\")\n",
    "while number == guess_me:\n",
    "    print(\"Fount it.\")\n",
    "while number > guess_me:\n",
    "    print(\"Oops.\")\n",
    "    break()"
   ]
  },
  {
   "cell_type": "code",
   "execution_count": null,
   "id": "468f0b47-a881-4df3-9fc4-ce425743ebde",
   "metadata": {},
   "outputs": [],
   "source": [
    "6.3"
   ]
  },
  {
   "cell_type": "code",
   "execution_count": null,
   "id": "de0c8afa-d5f7-4969-b5c4-8ce5eb0137fe",
   "metadata": {},
   "outputs": [],
   "source": [
    "guess_me = 5\n",
    "for number in range(10):\n",
    "    if number < guess_me:\n",
    "        print(\"Too low.\")\n",
    "    if number == guess_me:\n",
    "        print(\"Found it.\")"
   ]
  }
 ],
 "metadata": {
  "kernelspec": {
   "display_name": "Python 3 (ipykernel)",
   "language": "python",
   "name": "python3"
  },
  "language_info": {
   "codemirror_mode": {
    "name": "ipython",
    "version": 3
   },
   "file_extension": ".py",
   "mimetype": "text/x-python",
   "name": "python",
   "nbconvert_exporter": "python",
   "pygments_lexer": "ipython3",
   "version": "3.11.7"
  }
 },
 "nbformat": 4,
 "nbformat_minor": 5
}
