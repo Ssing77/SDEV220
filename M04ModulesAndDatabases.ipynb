{
 "cells": [
  {
   "cell_type": "code",
   "execution_count": 1,
   "id": "998645a3-3dc6-4f30-844a-b3af4303d6a1",
   "metadata": {},
   "outputs": [],
   "source": [
    "#Name: Sahajpreet Singh\n",
    "#Assignment: M04 Textbook Reading / Modules and Databases\n",
    "#Date: 4/15/2024"
   ]
  },
  {
   "cell_type": "code",
   "execution_count": 2,
   "id": "52953c8a-9d04-4331-9fe0-75f413999036",
   "metadata": {},
   "outputs": [],
   "source": [
    "#zoo.py\n",
    "def hours():\n",
    "    print(\"Open 9-5 daily\")\n"
   ]
  },
  {
   "cell_type": "code",
   "execution_count": 5,
   "id": "0729b1b2-3653-485b-a8b7-b14a52bbdd46",
   "metadata": {},
   "outputs": [
    {
     "ename": "ModuleNotFoundError",
     "evalue": "No module named 'hours'",
     "output_type": "error",
     "traceback": [
      "\u001b[1;31m---------------------------------------------------------------------------\u001b[0m",
      "\u001b[1;31mModuleNotFoundError\u001b[0m                       Traceback (most recent call last)",
      "Cell \u001b[1;32mIn[5], line 1\u001b[0m\n\u001b[1;32m----> 1\u001b[0m \u001b[38;5;28;01mimport\u001b[39;00m \u001b[38;5;21;01mhours\u001b[39;00m\n\u001b[0;32m      2\u001b[0m zoo\u001b[38;5;241m.\u001b[39mhours()\n",
      "\u001b[1;31mModuleNotFoundError\u001b[0m: No module named 'hours'"
     ]
    }
   ],
   "source": [
    "import zoo\n",
    "zoo.hours()\n"
   ]
  },
  {
   "cell_type": "code",
   "execution_count": 9,
   "id": "d0d71bb1-20b3-46bc-bfaa-ad9ac1257b4d",
   "metadata": {},
   "outputs": [
    {
     "ename": "OperationalError",
     "evalue": "table books already exists",
     "output_type": "error",
     "traceback": [
      "\u001b[1;31m---------------------------------------------------------------------------\u001b[0m",
      "\u001b[1;31mOperationalError\u001b[0m                          Traceback (most recent call last)",
      "Cell \u001b[1;32mIn[9], line 6\u001b[0m\n\u001b[0;32m      4\u001b[0m connect \u001b[38;5;241m=\u001b[39m sqlite3\u001b[38;5;241m.\u001b[39mconnect(\u001b[38;5;124m'\u001b[39m\u001b[38;5;124mbooks.db\u001b[39m\u001b[38;5;124m'\u001b[39m)\n\u001b[0;32m      5\u001b[0m con \u001b[38;5;241m=\u001b[39m connect\u001b[38;5;241m.\u001b[39mcursor()\n\u001b[1;32m----> 6\u001b[0m con\u001b[38;5;241m.\u001b[39mexecute(\u001b[38;5;124m'''\u001b[39m\u001b[38;5;124mCREATE TABLE books\u001b[39m\n\u001b[0;32m      7\u001b[0m \u001b[38;5;124m                ( title TEXT, author TEXT, year INTEGER)\u001b[39m\u001b[38;5;124m'''\u001b[39m)\n\u001b[0;32m      8\u001b[0m con\u001b[38;5;241m.\u001b[39mclose()\n",
      "\u001b[1;31mOperationalError\u001b[0m: table books already exists"
     ]
    }
   ],
   "source": [
    "#16.8\n",
    "#first 16.4\n",
    "import sqlite3\n",
    "connect = sqlite3.connect('books.db')\n",
    "con = \n",
    "\n"
   ]
  },
  {
   "cell_type": "code",
   "execution_count": null,
   "id": "1de190c4-310e-469a-bc60-3b6aeb3f4a68",
   "metadata": {},
   "outputs": [],
   "source": []
  }
 ],
 "metadata": {
  "kernelspec": {
   "display_name": "Python 3 (ipykernel)",
   "language": "python",
   "name": "python3"
  },
  "language_info": {
   "codemirror_mode": {
    "name": "ipython",
    "version": 3
   },
   "file_extension": ".py",
   "mimetype": "text/x-python",
   "name": "python",
   "nbconvert_exporter": "python",
   "pygments_lexer": "ipython3",
   "version": "3.11.7"
  }
 },
 "nbformat": 4,
 "nbformat_minor": 5
}
